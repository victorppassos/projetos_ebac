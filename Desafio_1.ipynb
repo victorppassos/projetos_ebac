{
  "nbformat": 4,
  "nbformat_minor": 0,
  "metadata": {
    "colab": {
      "provenance": []
    },
    "kernelspec": {
      "name": "python3",
      "display_name": "Python 3"
    },
    "language_info": {
      "name": "python"
    }
  },
  "cells": [
    {
      "cell_type": "markdown",
      "source": [
        "Desenvolva um gerador de tabuada, capaz de gerar a tabuada de qualquer número inteiro entre 1 a 10. O usuário deve informar de qual número ele deseja ver a tabuada."
      ],
      "metadata": {
        "id": "S8hJe3dEQVqt"
      }
    },
    {
      "cell_type": "code",
      "execution_count": 6,
      "metadata": {
        "colab": {
          "base_uri": "https://localhost:8080/"
        },
        "id": "s0uzB4v-SRHt",
        "outputId": "70089d69-8793-4884-8d12-5e07f3973457"
      },
      "outputs": [
        {
          "output_type": "stream",
          "name": "stdout",
          "text": [
            "Vamos fazer uma tabuada?\n",
            "Escolha um número de 1 a 10:5\n",
            "5 X 1 = 5\n",
            "5 X 2 = 10\n",
            "5 X 3 = 15\n",
            "5 X 4 = 20\n",
            "5 X 5 = 25\n",
            "5 X 6 = 30\n",
            "5 X 7 = 35\n",
            "5 X 8 = 40\n",
            "5 X 9 = 45\n",
            "5 X 10 = 50\n"
          ]
        }
      ],
      "source": [
        "print('Vamos fazer uma tabuada?')\n",
        "numero = int(input(\"Escolha um número de 1 a 10:\"))\n",
        "for i in range(1,11):\n",
        " print(f\"{numero} X {i} = {numero * i}\")"
      ]
    }
  ]
}