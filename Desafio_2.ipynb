{
  "nbformat": 4,
  "nbformat_minor": 0,
  "metadata": {
    "colab": {
      "provenance": []
    },
    "kernelspec": {
      "name": "python3",
      "display_name": "Python 3"
    },
    "language_info": {
      "name": "python"
    }
  },
  "cells": [
    {
      "cell_type": "code",
      "source": [],
      "metadata": {
        "id": "EMsUJeCwTktY"
      },
      "execution_count": null,
      "outputs": []
    },
    {
      "cell_type": "markdown",
      "source": [
        "Dentro do dirétorio chamado \"Desafio\" foi criado o arquivo \"inicio.py\" para ser transformado em um pacote Python.\n",
        " Também foram criados dois arquivos:"
      ],
      "metadata": {
        "id": "-Jp-BA0wSVun"
      }
    },
    {
      "cell_type": "code",
      "execution_count": 1,
      "metadata": {
        "id": "-HrLA9p9R5Fc"
      },
      "outputs": [],
      "source": [
        "class Desafio(object):\n",
        "\n",
        "  def __init__(self, num1: int, num2: int):\n",
        "    self.num1 = num1\n",
        "    self.num2 = num2\n",
        "\n",
        "  def soma(self):\n",
        "    return self.num1 + self.num2\n",
        "\n",
        "  def subtracao(self):\n",
        "    return self.num1 - self.num2\n",
        "\n",
        "  def multiplicacao(self):\n",
        "    return self.num1 * self.num2\n",
        "\n",
        "  def divisao(self):\n",
        "    return self.num1 / self.num2"
      ]
    },
    {
      "cell_type": "code",
      "source": [
        "Este é o pacote de cálculos básicos"
      ],
      "metadata": {
        "id": "MSIFXPXDS_kc"
      },
      "execution_count": null,
      "outputs": []
    },
    {
      "cell_type": "code",
      "source": [
        "class Desafio2(object):\n",
        "\n",
        "  def __init__(self, num1: int, num2: int):\n",
        "    self.num1 = num1\n",
        "    self.num2 = num2\n",
        "\n",
        "  def potencia(self):\n",
        "    return self.num1 ** self.num1\n",
        "\n",
        "  def raiz(self):\n",
        "    return self.num1 ** (1/2)\n",
        "    self.num2 ** (1/2)\n",
        "\n",
        "  def logaritmo(self):\n",
        "    return self.num1 ** (1/self.num2)\n",
        "    self.num2 ** (1/self.num1)"
      ],
      "metadata": {
        "id": "QGjw2J9dcKDc"
      },
      "execution_count": 2,
      "outputs": []
    },
    {
      "cell_type": "code",
      "source": [
        "Este é o pacote de cálculos adicionais"
      ],
      "metadata": {
        "id": "PRDISdKDTEOQ"
      },
      "execution_count": null,
      "outputs": []
    },
    {
      "cell_type": "code",
      "source": [
        "from Desafio import basico\n",
        "from Desafio import adicionais"
      ],
      "metadata": {
        "id": "TyVaicjWZIWO",
        "colab": {
          "base_uri": "https://localhost:8080/",
          "height": 331
        },
        "outputId": "f909565d-f806-4af9-cde8-3cd108ea4d6f"
      },
      "execution_count": 3,
      "outputs": [
        {
          "output_type": "error",
          "ename": "ModuleNotFoundError",
          "evalue": "No module named 'Desafio'",
          "traceback": [
            "\u001b[0;31m---------------------------------------------------------------------------\u001b[0m",
            "\u001b[0;31mModuleNotFoundError\u001b[0m                       Traceback (most recent call last)",
            "\u001b[0;32m<ipython-input-3-a7c4b0c67794>\u001b[0m in \u001b[0;36m<cell line: 1>\u001b[0;34m()\u001b[0m\n\u001b[0;32m----> 1\u001b[0;31m \u001b[0;32mfrom\u001b[0m \u001b[0mDesafio\u001b[0m \u001b[0;32mimport\u001b[0m \u001b[0mbasico\u001b[0m\u001b[0;34m\u001b[0m\u001b[0;34m\u001b[0m\u001b[0m\n\u001b[0m\u001b[1;32m      2\u001b[0m \u001b[0;32mfrom\u001b[0m \u001b[0mDesafio\u001b[0m \u001b[0;32mimport\u001b[0m \u001b[0madicionais\u001b[0m\u001b[0;34m\u001b[0m\u001b[0;34m\u001b[0m\u001b[0m\n",
            "\u001b[0;31mModuleNotFoundError\u001b[0m: No module named 'Desafio'",
            "",
            "\u001b[0;31m---------------------------------------------------------------------------\u001b[0;32m\nNOTE: If your import is failing due to a missing package, you can\nmanually install dependencies using either !pip or !apt.\n\nTo view examples of installing some common dependencies, click the\n\"Open Examples\" button below.\n\u001b[0;31m---------------------------------------------------------------------------\u001b[0m\n"
          ],
          "errorDetails": {
            "actions": [
              {
                "action": "open_url",
                "actionText": "Open Examples",
                "url": "/notebooks/snippets/importing_libraries.ipynb"
              }
            ]
          }
        }
      ]
    },
    {
      "cell_type": "markdown",
      "source": [
        "Com as bibliotecas criadas e importadas podemos ir a parte do usuário utilizar a calculadora\n"
      ],
      "metadata": {
        "id": "UOCKbpc5TYVJ"
      }
    },
    {
      "cell_type": "code",
      "source": [
        "num1 = int(input(\"Escolha um numero: \"))\n",
        "\n",
        "\n",
        "num2 = int(input(\"Escolha um numero: \"))"
      ],
      "metadata": {
        "colab": {
          "base_uri": "https://localhost:8080/"
        },
        "id": "j0tNHYwObYX5",
        "outputId": "4c1111e5-6dea-4c8c-9961-525c386d0782"
      },
      "execution_count": null,
      "outputs": [
        {
          "name": "stdout",
          "output_type": "stream",
          "text": [
            "Escolha um numero: 8\n",
            "Escolha um numero: 4\n"
          ]
        }
      ]
    },
    {
      "cell_type": "code",
      "source": [
        "basico1 = Desafio(num1, num2)\n",
        "soma= basico1.soma()\n",
        "subtracao = basico1.subtracao()\n",
        "multiplicacao = basico1.multiplicacao()\n",
        "divisao = int(basico1.divisao())\n",
        "\n",
        "print(soma)\n",
        "print(subtracao)\n",
        "print(multiplicacao)\n",
        "print(divisao)"
      ],
      "metadata": {
        "colab": {
          "base_uri": "https://localhost:8080/"
        },
        "id": "zRVJmzUTZbp2",
        "outputId": "0713bf2e-d967-4d99-94ba-a40f06e63df1"
      },
      "execution_count": null,
      "outputs": [
        {
          "output_type": "stream",
          "name": "stdout",
          "text": [
            "12\n",
            "4\n",
            "32\n",
            "2\n"
          ]
        }
      ]
    },
    {
      "cell_type": "code",
      "source": [
        "basico2 = Desafio2(num1, num2)\n",
        "potencia = basico2.potencia()\n",
        "raiz = basico2.raiz()\n",
        "logaritmo = basico2.logaritmo()\n",
        "\n",
        "print(potencia)\n",
        "print(raiz)\n",
        "print(logaritmo)\n"
      ],
      "metadata": {
        "colab": {
          "base_uri": "https://localhost:8080/"
        },
        "id": "NdyVe9robDAP",
        "outputId": "85765bbb-f8b5-4ae5-a354-2100dc938855"
      },
      "execution_count": null,
      "outputs": [
        {
          "output_type": "stream",
          "name": "stdout",
          "text": [
            "16777216\n",
            "2.8284271247461903\n",
            "1.681792830507429\n"
          ]
        }
      ]
    }
  ]
}